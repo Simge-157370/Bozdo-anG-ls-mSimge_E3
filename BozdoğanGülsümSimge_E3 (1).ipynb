{
 "cells": [
  {
   "cell_type": "markdown",
   "id": "5d7cef63",
   "metadata": {},
   "source": [
    "Exercise 7.1"
   ]
  },
  {
   "cell_type": "code",
   "execution_count": 21,
   "id": "edd3a1f5",
   "metadata": {},
   "outputs": [],
   "source": [
    "def readFile(filename):\n",
    "    with open(filename,\"r\") as file:\n",
    "        for eachLine in file:\n",
    "            print(eachLine, end=\" \")\n"
   ]
  },
  {
   "cell_type": "markdown",
   "id": "3628d515",
   "metadata": {},
   "source": [
    "7.2\n",
    "a)"
   ]
  },
  {
   "cell_type": "code",
   "execution_count": null,
   "id": "72446fec",
   "metadata": {},
   "outputs": [],
   "source": [
    "import collections\n",
    "import re\n",
    "words=re.findall(r\"\\w+\",open('words2.txt2').read().lower())\n",
    "most_common=collections.Counter(words).most_common(20)\n",
    "print(most_common)"
   ]
  },
  {
   "cell_type": "markdown",
   "id": "c68903ae",
   "metadata": {},
   "source": [
    "7.2 b)"
   ]
  },
  {
   "cell_type": "code",
   "execution_count": null,
   "id": "f29d3606",
   "metadata": {},
   "outputs": [],
   "source": [
    "def uniqueWords(filename):\n",
    "    words=[]\n",
    "    count=0\n",
    "    with open (filename,\"r\") as file:\n",
    "        for line in file:\n",
    "            if line in words:\n",
    "                words.append(line)\n",
    "                k+=1\n",
    "            else:\n",
    "                pass\n",
    "    print(k)"
   ]
  },
  {
   "cell_type": "markdown",
   "id": "6cf38ac8",
   "metadata": {},
   "source": [
    "7.2 c)"
   ]
  },
  {
   "cell_type": "code",
   "execution_count": null,
   "id": "82440d98",
   "metadata": {},
   "outputs": [],
   "source": []
  },
  {
   "cell_type": "markdown",
   "id": "accb482a",
   "metadata": {},
   "source": [
    "7.2 d)"
   ]
  },
  {
   "cell_type": "code",
   "execution_count": null,
   "id": "0393f9d8",
   "metadata": {},
   "outputs": [],
   "source": [
    "import collections\n",
    "import re\n",
    "def mostCommon200(filename): \n",
    "    with open (filename,\"w\") as file:\n",
    "        words=re.findall(r\"\\w+\",open('words2.txt2').read().lower())\n",
    "        most_common=collections.Counter(words).most_common(200)\n",
    "    "
   ]
  },
  {
   "cell_type": "markdown",
   "id": "88fca915",
   "metadata": {},
   "source": [
    "7.3"
   ]
  },
  {
   "cell_type": "code",
   "execution_count": null,
   "id": "3b240a9d",
   "metadata": {},
   "outputs": [],
   "source": []
  },
  {
   "cell_type": "markdown",
   "id": "82215c3c",
   "metadata": {},
   "source": [
    "7.4 a)"
   ]
  },
  {
   "cell_type": "code",
   "execution_count": null,
   "id": "c3152c87",
   "metadata": {},
   "outputs": [],
   "source": [
    "def randomVariable(a,b,n,filenameA):\n",
    "    values=[]\n",
    "    with open (filenameA,\"w\") as file:\n",
    "        for i in range(a,b):\n",
    "            n=random.randint(a,b)\n",
    "            values.append(n)\n",
    "            file.write(values)"
   ]
  },
  {
   "cell_type": "markdown",
   "id": "4372f5c5",
   "metadata": {},
   "source": [
    "7.4 b)"
   ]
  },
  {
   "cell_type": "code",
   "execution_count": null,
   "id": "8176f8d3",
   "metadata": {},
   "outputs": [],
   "source": [
    "def readFunction(filenameB):\n",
    "    with open(filenameB,\"r\") as file:\n",
    "        f=file.read()\n",
    "        print(f)"
   ]
  },
  {
   "cell_type": "markdown",
   "id": "6fc38c58",
   "metadata": {},
   "source": [
    "7.4 c)"
   ]
  },
  {
   "cell_type": "code",
   "execution_count": 2,
   "id": "9dea0482",
   "metadata": {},
   "outputs": [],
   "source": [
    "def sumOperation(filenameA,filenameB,k):\n",
    "    with open(filenameA,\"r\") as file1:\n",
    "        with open(filenameB,\"r\") as file2:\n",
    "            f1=file1.read()\n",
    "            f2=file2.read()\n",
    "            sum=int(f1+f2)\n",
    "            if sum==k:\n",
    "                return \"f1\",\"f2\"\n",
    "    return 0          "
   ]
  },
  {
   "cell_type": "markdown",
   "id": "6ace4300",
   "metadata": {},
   "source": [
    "7.4 d)"
   ]
  },
  {
   "cell_type": "markdown",
   "id": "d2e9870d",
   "metadata": {},
   "source": [
    "8.1.a)"
   ]
  },
  {
   "cell_type": "code",
   "execution_count": null,
   "id": "df7982b4",
   "metadata": {},
   "outputs": [],
   "source": [
    "class Rational:\n",
    "    def __init__(x,p,q):\n",
    "        x.p=p\n",
    "        x.q=q"
   ]
  },
  {
   "cell_type": "markdown",
   "id": "84738c16",
   "metadata": {},
   "source": [
    "8.1..b)"
   ]
  },
  {
   "cell_type": "code",
   "execution_count": null,
   "id": "cbf70df0",
   "metadata": {},
   "outputs": [],
   "source": [
    "class Rational:\n",
    "    def __init__(x,p,q):\n",
    "        x.p=p\n",
    "        x.q=q\n",
    "    def __str__(x):\n",
    "        return \"{}/{}\".format(x.p,x.q)"
   ]
  },
  {
   "cell_type": "markdown",
   "id": "bc919eae",
   "metadata": {},
   "source": [
    "8.1.c)"
   ]
  },
  {
   "cell_type": "code",
   "execution_count": null,
   "id": "1a8fe977",
   "metadata": {},
   "outputs": [],
   "source": []
  }
 ],
 "metadata": {
  "kernelspec": {
   "display_name": "Python 3 (ipykernel)",
   "language": "python",
   "name": "python3"
  },
  "language_info": {
   "codemirror_mode": {
    "name": "ipython",
    "version": 3
   },
   "file_extension": ".py",
   "mimetype": "text/x-python",
   "name": "python",
   "nbconvert_exporter": "python",
   "pygments_lexer": "ipython3",
   "version": "3.9.7"
  }
 },
 "nbformat": 4,
 "nbformat_minor": 5
}
